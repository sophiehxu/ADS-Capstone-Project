{
    "nbformat_minor": 1, 
    "cells": [
        {
            "source": "#this notebook will be mainly used for the capstone project, Course 9 WK 1 Assignment\n#Import the pandas library as pd\nimport pandas as pd\n#Import the Numpy library as np\nimport numpy as np\n\n#Print the following the statement: Hello Capstone Project Course!\nprint (\"Hello Capstone Project Course from Sophie!\")", 
            "cell_type": "code", 
            "metadata": {}, 
            "outputs": [
                {
                    "output_type": "stream", 
                    "name": "stdout", 
                    "text": "Hello Capstone Project Course from Sophie!\n"
                }
            ], 
            "execution_count": 1
        }, 
        {
            "source": "", 
            "cell_type": "code", 
            "metadata": {}, 
            "outputs": [], 
            "execution_count": null
        }
    ], 
    "metadata": {
        "kernelspec": {
            "display_name": "Python 3.5", 
            "name": "python3", 
            "language": "python"
        }, 
        "language_info": {
            "mimetype": "text/x-python", 
            "nbconvert_exporter": "python", 
            "version": "3.5.5", 
            "name": "python", 
            "file_extension": ".py", 
            "pygments_lexer": "ipython3", 
            "codemirror_mode": {
                "version": 3, 
                "name": "ipython"
            }
        }
    }, 
    "nbformat": 4
}